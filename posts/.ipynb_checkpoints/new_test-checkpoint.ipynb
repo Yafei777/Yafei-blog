{
 "cells": [
  {
   "cell_type": "markdown",
   "metadata": {},
   "source": [
    "## test new post"
   ]
  },
  {
   "cell_type": "code",
   "execution_count": 1,
   "metadata": {
    "collapsed": false
   },
   "outputs": [
    {
     "data": {
      "text/plain": [
       "{'kernelspec': {'display_name': 'Python 3',\n",
       "  'language': 'python',\n",
       "  'name': 'python3'},\n",
       " 'language_info': {'codemirror_mode': {'name': 'ipython', 'version': 3},\n",
       "  'file_extension': '.py',\n",
       "  'mimetype': 'text/x-python',\n",
       "  'name': 'python',\n",
       "  'nbconvert_exporter': 'python',\n",
       "  'pygments_lexer': 'ipython3',\n",
       "  'version': '3.5.2'}}"
      ]
     },
     "execution_count": 1,
     "metadata": {},
     "output_type": "execute_result"
    }
   ],
   "source": [
    "{\n",
    "  \"kernelspec\": {\n",
    "    \"name\": \"python3\",\n",
    "    \"display_name\": \"Python 3\",\n",
    "    \"language\": \"python\"\n",
    "  },\n",
    "  \"language_info\": {\n",
    "    \"file_extension\": \".py\",\n",
    "    \"mimetype\": \"text/x-python\",\n",
    "    \"codemirror_mode\": {\n",
    "      \"name\": \"ipython\",\n",
    "      \"version\": 3\n",
    "    },\n",
    "    \"pygments_lexer\": \"ipython3\",\n",
    "    \"nbconvert_exporter\": \"python\",\n",
    "    \"name\": \"python\",\n",
    "    \"version\": \"3.5.2\"\n",
    "  }\n",
    "}"
   ]
  },
  {
   "cell_type": "code",
   "execution_count": 2,
   "metadata": {
    "collapsed": false
   },
   "outputs": [
    {
     "data": {
      "text/plain": [
       "{'kernelspec': {'display_name': 'Python 3',\n",
       "  'language': 'python',\n",
       "  'name': 'python3'},\n",
       " 'language_info': {'codemirror_mode': {'name': 'ipython', 'version': 3},\n",
       "  'file_extension': '.py',\n",
       "  'mimetype': 'text/x-python',\n",
       "  'name': 'python',\n",
       "  'nbconvert_exporter': 'python',\n",
       "  'pygments_lexer': 'ipython3',\n",
       "  'version': '3.5.2'},\n",
       " 'nikola': {'category': '',\n",
       "  'date': '2016-11-21 12:27:12 UTC+08:00',\n",
       "  'description': '',\n",
       "  'link': '',\n",
       "  'slug': 'jupyter-nikola-and-github',\n",
       "  'tags': '',\n",
       "  'title': '使用Nikola建立个人网站',\n",
       "  'type': 'text'}}"
      ]
     },
     "execution_count": 2,
     "metadata": {},
     "output_type": "execute_result"
    }
   ],
   "source": [
    "{\n",
    "  \"nikola\": {\n",
    "    \"title\": \"使用Nikola建立个人网站\",\n",
    "    \"description\": \"\",\n",
    "    \"date\": \"2016-11-21 12:27:12 UTC+08:00\",\n",
    "    \"category\": \"\",\n",
    "    \"slug\": \"jupyter-nikola-and-github\",\n",
    "    \"link\": \"\",\n",
    "    \"tags\": \"\",\n",
    "    \"type\": \"text\"\n",
    "  },\n",
    "  \"kernelspec\": {\n",
    "    \"name\": \"python3\",\n",
    "    \"display_name\": \"Python 3\",\n",
    "    \"language\": \"python\"\n",
    "  },\n",
    "  \"language_info\": {\n",
    "    \"file_extension\": \".py\",\n",
    "    \"mimetype\": \"text/x-python\",\n",
    "    \"codemirror_mode\": {\n",
    "      \"name\": \"ipython\",\n",
    "      \"version\": 3\n",
    "    },\n",
    "    \"pygments_lexer\": \"ipython3\",\n",
    "    \"nbconvert_exporter\": \"python\",\n",
    "    \"name\": \"python\",\n",
    "    \"version\": \"3.5.2\"\n",
    "  }\n",
    "}"
   ]
  },
  {
   "cell_type": "code",
   "execution_count": null,
   "metadata": {
    "collapsed": true
   },
   "outputs": [],
   "source": []
  }
 ],
 "metadata": {
  "kernelspec": {
   "display_name": "Python 3",
   "language": "python",
   "name": "python3"
  },
  "language_info": {
   "codemirror_mode": {
    "name": "ipython",
    "version": 3
   },
   "file_extension": ".py",
   "mimetype": "text/x-python",
   "name": "python",
   "nbconvert_exporter": "python",
   "pygments_lexer": "ipython3",
   "version": "3.5.2"
  },
  "nikola": {
   "category": "",
   "date": "2017-4-5 12:27:12 UTC+08:00",
   "description": "",
   "link": "",
   "slug": "new_test",
   "tags": "",
   "title": "new post test",
   "type": "text"
  }
 },
 "nbformat": 4,
 "nbformat_minor": 1
}
