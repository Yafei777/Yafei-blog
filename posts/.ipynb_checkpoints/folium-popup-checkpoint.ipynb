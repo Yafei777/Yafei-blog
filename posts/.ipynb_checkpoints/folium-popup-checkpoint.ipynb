{
 "cells": [
  {
   "cell_type": "markdown",
   "metadata": {},
   "source": [
    "在这里书写你的文章。"
   ]
  }
 ],
 "metadata": {
  "kernelspec": {
   "display_name": "Python 3",
   "language": "python",
   "name": "python3"
  },
  "language_info": {
   "codemirror_mode": {
    "name": "ipython",
    "version": 3
   },
   "file_extension": ".py",
   "mimetype": "text/x-python",
   "name": "python",
   "nbconvert_exporter": "python",
   "pygments_lexer": "ipython3",
   "version": "3.5.2"
  },
  "nikola": {
   "category": "",
   "date": "2017-04-12 16:26:41 UTC+08:00",
   "description": "",
   "link": "",
   "slug": "folium-popup",
   "tags": "",
   "title": "Folium Popup",
   "type": "text"
  }
 },
 "nbformat": 4,
 "nbformat_minor": 1
}
