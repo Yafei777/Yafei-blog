{
 "cells": [
  {
   "cell_type": "markdown",
   "metadata": {},
   "source": [
    "在这里书写你的文章。"
   ]
  }
 ],
 "metadata": {
  "kernelspec": {
   "display_name": "Python 3",
   "language": "python",
   "name": "python3"
  },
  "language_info": {
   "codemirror_mode": {
    "name": "ipython",
    "version": 3
   },
   "file_extension": ".py",
   "mimetype": "text/x-python",
   "name": "python",
   "nbconvert_exporter": "python",
   "pygments_lexer": "ipython3",
   "version": "3.5.2"
  },
  "nikola": {
   "category": "",
   "date": "2017-03-30 12:52:48 UTC+08:00",
   "description": "",
   "link": "",
   "slug": "ge-chong-ge-shi-di-li-xin-xi-shu-ju-du-qu-he-xian-shi",
   "tags": "",
   "title": "各种格式地理信息数据读取和显示",
   "type": "text"
  }
 },
 "nbformat": 4,
 "nbformat_minor": 1
}
