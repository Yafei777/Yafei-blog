{
 "cells": [
  {
   "cell_type": "markdown",
   "metadata": {},
   "source": [
    "# Folium交互式地图及popup中文显示"
   ]
  },
  {
   "cell_type": "markdown",
   "metadata": {},
   "source": [
    "本文将介绍使用Folium生成交互式地图并使popup弹框支持**中文显示**。"
   ]
  },
  {
   "cell_type": "markdown",
   "metadata": {},
   "source": [
    "Folium是一个python包，可以用Python代码非常方便的生成嵌入网页的基于[Leaflet](http://leafletjs.com/examples/quick-start/)的交互式地图，介绍可见[主页](http://folium.readthedocs.io/)。最简单的安装方法还是通过pip。"
   ]
  },
  {
   "cell_type": "markdown",
   "metadata": {},
   "source": [
    "Folium的说明文档不太完整，但是几个例子还是能把功能说明白的，主页中就有。当然，如果出现莫名其妙的bug，就得考验大家的智慧了。在我个人的使用过程中就遇到了一个困扰很久的bug，popup弹框不能显示中文。受python4oceanographers的一篇[博文](https://ocefpaf.github.io/python4oceanographers/blog/2015/12/14/geopandas_folium/)的启发，终于解决，在此特别感谢，并分享给中文世界的朋友们！"
   ]
  },
  {
   "cell_type": "markdown",
   "metadata": {},
   "source": [
    "本文将通过一个应用场景尝试解决以下问题：\n",
    "1. 找到距离某地最近的若干记录（并用公里显示距离）\n",
    "2. 显示在Folium地图上（配置合适的标志）\n",
    "3. 点击显示详细信息（中文！）"
   ]
  },
  {
   "cell_type": "markdown",
   "metadata": {},
   "source": [
    "### 数据预处理"
   ]
  },
  {
   "cell_type": "markdown",
   "metadata": {},
   "source": [
    "首先还是下载中国气象站点数据，读入pandas并转换成十进制度，上一篇博文有介绍，不再赘述。"
   ]
  },
  {
   "cell_type": "code",
   "execution_count": 1,
   "metadata": {
    "collapsed": true
   },
   "outputs": [],
   "source": [
    "import pandas as pd"
   ]
  },
  {
   "cell_type": "code",
   "execution_count": 2,
   "metadata": {
    "collapsed": true
   },
   "outputs": [],
   "source": [
    "data = pd.read_excel('SURF_CHN_MUL_HOR_STATION.xlsx')"
   ]
  },
  {
   "cell_type": "code",
   "execution_count": 3,
   "metadata": {
    "collapsed": true
   },
   "outputs": [],
   "source": [
    "def min2deg(x):\n",
    "    y = int(x)\n",
    "    y = y + (x - y)*1.66666667\n",
    "    return y\n",
    "\n",
    "data['经度'] = data['经度'].apply(min2deg)\n",
    "data['纬度'] = data['纬度'].apply(min2deg)"
   ]
  },
  {
   "cell_type": "markdown",
   "metadata": {},
   "source": [
    "整理一下数据精确的有效数字"
   ]
  },
  {
   "cell_type": "code",
   "execution_count": 4,
   "metadata": {
    "collapsed": false
   },
   "outputs": [],
   "source": [
    "data['观测场拔海高度（米）'] = data['观测场拔海高度（米）'].apply(lambda x:round(x,1))\n",
    "\n",
    "data['纬度'] = data['纬度'].apply(lambda x:round(x,2))\n",
    "data['经度'] = data['经度'].apply(lambda x:round(x,2))"
   ]
  },
  {
   "cell_type": "code",
   "execution_count": 5,
   "metadata": {
    "collapsed": false
   },
   "outputs": [
    {
     "data": {
      "text/html": [
       "<div>\n",
       "<table border=\"1\" class=\"dataframe\">\n",
       "  <thead>\n",
       "    <tr style=\"text-align: right;\">\n",
       "      <th></th>\n",
       "      <th>省份</th>\n",
       "      <th>区站号</th>\n",
       "      <th>站名</th>\n",
       "      <th>纬度</th>\n",
       "      <th>经度</th>\n",
       "      <th>气压传感器拔海高度（米）</th>\n",
       "      <th>观测场拔海高度（米）</th>\n",
       "    </tr>\n",
       "  </thead>\n",
       "  <tbody>\n",
       "    <tr>\n",
       "      <th>0</th>\n",
       "      <td>安徽</td>\n",
       "      <td>58015</td>\n",
       "      <td>砀山</td>\n",
       "      <td>34.45</td>\n",
       "      <td>116.33</td>\n",
       "      <td>45.4</td>\n",
       "      <td>44.2</td>\n",
       "    </tr>\n",
       "    <tr>\n",
       "      <th>1</th>\n",
       "      <td>安徽</td>\n",
       "      <td>58016</td>\n",
       "      <td>萧县</td>\n",
       "      <td>34.18</td>\n",
       "      <td>116.97</td>\n",
       "      <td>35.9</td>\n",
       "      <td>34.7</td>\n",
       "    </tr>\n",
       "    <tr>\n",
       "      <th>2</th>\n",
       "      <td>安徽</td>\n",
       "      <td>58102</td>\n",
       "      <td>亳州</td>\n",
       "      <td>33.87</td>\n",
       "      <td>115.77</td>\n",
       "      <td>39.2</td>\n",
       "      <td>37.7</td>\n",
       "    </tr>\n",
       "    <tr>\n",
       "      <th>3</th>\n",
       "      <td>安徽</td>\n",
       "      <td>58107</td>\n",
       "      <td>临泉</td>\n",
       "      <td>33.02</td>\n",
       "      <td>115.28</td>\n",
       "      <td>37.0</td>\n",
       "      <td>35.8</td>\n",
       "    </tr>\n",
       "    <tr>\n",
       "      <th>4</th>\n",
       "      <td>安徽</td>\n",
       "      <td>58108</td>\n",
       "      <td>界首</td>\n",
       "      <td>33.23</td>\n",
       "      <td>115.33</td>\n",
       "      <td>35.0</td>\n",
       "      <td>34.0</td>\n",
       "    </tr>\n",
       "  </tbody>\n",
       "</table>\n",
       "</div>"
      ],
      "text/plain": [
       "   省份    区站号  站名     纬度      经度  气压传感器拔海高度（米）  观测场拔海高度（米）\n",
       "0  安徽  58015  砀山  34.45  116.33          45.4        44.2\n",
       "1  安徽  58016  萧县  34.18  116.97          35.9        34.7\n",
       "2  安徽  58102  亳州  33.87  115.77          39.2        37.7\n",
       "3  安徽  58107  临泉  33.02  115.28          37.0        35.8\n",
       "4  安徽  58108  界首  33.23  115.33          35.0        34.0"
      ]
     },
     "execution_count": 5,
     "metadata": {},
     "output_type": "execute_result"
    }
   ],
   "source": [
    "data.head(5)"
   ]
  },
  {
   "cell_type": "markdown",
   "metadata": {},
   "source": [
    "将这个版本的数据存起来，以便下次使用"
   ]
  },
  {
   "cell_type": "raw",
   "metadata": {},
   "source": [
    "data.to_csv('中国气象站点信息_decimal.csv')"
   ]
  },
  {
   "cell_type": "markdown",
   "metadata": {},
   "source": [
    "### 计算两点距离（公里表示）"
   ]
  },
  {
   "cell_type": "markdown",
   "metadata": {},
   "source": [
    "已知两点经纬度计算两点距离有其公式，详见[Movable-Type的介绍](http://www.movable-type.co.uk/scripts/latlong.html)（包括JS代码和网页计算器）。以下Python代码来自[Bruno Rocha](https://gist.github.com/rochacbruno)的分享在此感谢！"
   ]
  },
  {
   "cell_type": "code",
   "execution_count": 6,
   "metadata": {
    "collapsed": true
   },
   "outputs": [],
   "source": [
    "# Haversine formula example in Python\n",
    "# Author: Wayne Dyck\n",
    "\n",
    "import math\n",
    "\n",
    "def distance(origin, destination):\n",
    "    lat1, lon1 = origin\n",
    "    lat2, lon2 = destination\n",
    "    radius = 6371 # km\n",
    "\n",
    "    dlat = math.radians(lat2-lat1)\n",
    "    dlon = math.radians(lon2-lon1)\n",
    "    a = math.sin(dlat/2) * math.sin(dlat/2) + math.cos(math.radians(lat1)) \\\n",
    "        * math.cos(math.radians(lat2)) * math.sin(dlon/2) * math.sin(dlon/2)\n",
    "    c = 2 * math.atan2(math.sqrt(a), math.sqrt(1-a))\n",
    "    d = radius * c\n",
    "\n",
    "    return d"
   ]
  },
  {
   "cell_type": "markdown",
   "metadata": {},
   "source": [
    "赤道上1度约111公里，北纬30度附近1度越96公里："
   ]
  },
  {
   "cell_type": "code",
   "execution_count": 7,
   "metadata": {
    "collapsed": false
   },
   "outputs": [
    {
     "data": {
      "text/plain": [
       "111.19492664455873"
      ]
     },
     "execution_count": 7,
     "metadata": {},
     "output_type": "execute_result"
    }
   ],
   "source": [
    "distance((0,1),(0,0))"
   ]
  },
  {
   "cell_type": "code",
   "execution_count": 8,
   "metadata": {
    "collapsed": false
   },
   "outputs": [
    {
     "data": {
      "text/plain": [
       "96.29732567761188"
      ]
     },
     "execution_count": 8,
     "metadata": {},
     "output_type": "execute_result"
    }
   ],
   "source": [
    "distance((30,0),(30,1))"
   ]
  },
  {
   "cell_type": "markdown",
   "metadata": {},
   "source": [
    "用Harversine函数计算所有记录的距离："
   ]
  },
  {
   "cell_type": "code",
   "execution_count": 9,
   "metadata": {
    "collapsed": false
   },
   "outputs": [],
   "source": [
    "data['距离雄县(km)'] = data.apply(lambda r:distance((r['纬度'],r['经度']),(39.02,116.10)),axis=1)"
   ]
  },
  {
   "cell_type": "markdown",
   "metadata": {},
   "source": [
    "选择距离雄县50km以内的记录"
   ]
  },
  {
   "cell_type": "code",
   "execution_count": 10,
   "metadata": {
    "collapsed": false
   },
   "outputs": [
    {
     "data": {
      "text/html": [
       "<div>\n",
       "<table border=\"1\" class=\"dataframe\">\n",
       "  <thead>\n",
       "    <tr style=\"text-align: right;\">\n",
       "      <th></th>\n",
       "      <th>省份</th>\n",
       "      <th>区站号</th>\n",
       "      <th>站名</th>\n",
       "      <th>纬度</th>\n",
       "      <th>经度</th>\n",
       "      <th>气压传感器拔海高度（米）</th>\n",
       "      <th>观测场拔海高度（米）</th>\n",
       "      <th>距离雄县(km)</th>\n",
       "    </tr>\n",
       "  </thead>\n",
       "  <tbody>\n",
       "    <tr>\n",
       "      <th>592</th>\n",
       "      <td>河北</td>\n",
       "      <td>54636</td>\n",
       "      <td>雄县</td>\n",
       "      <td>39.02</td>\n",
       "      <td>116.10</td>\n",
       "      <td>12.2</td>\n",
       "      <td>11.1</td>\n",
       "      <td>0.000000</td>\n",
       "    </tr>\n",
       "    <tr>\n",
       "      <th>569</th>\n",
       "      <td>河北</td>\n",
       "      <td>54605</td>\n",
       "      <td>安新</td>\n",
       "      <td>38.93</td>\n",
       "      <td>115.93</td>\n",
       "      <td>5.6</td>\n",
       "      <td>4.4</td>\n",
       "      <td>17.779593</td>\n",
       "    </tr>\n",
       "    <tr>\n",
       "      <th>546</th>\n",
       "      <td>河北</td>\n",
       "      <td>54503</td>\n",
       "      <td>容城</td>\n",
       "      <td>39.07</td>\n",
       "      <td>115.82</td>\n",
       "      <td>14.0</td>\n",
       "      <td>12.8</td>\n",
       "      <td>24.811635</td>\n",
       "    </tr>\n",
       "    <tr>\n",
       "      <th>552</th>\n",
       "      <td>河北</td>\n",
       "      <td>54518</td>\n",
       "      <td>霸州</td>\n",
       "      <td>39.17</td>\n",
       "      <td>116.40</td>\n",
       "      <td>10.4</td>\n",
       "      <td>8.9</td>\n",
       "      <td>30.797155</td>\n",
       "    </tr>\n",
       "    <tr>\n",
       "      <th>574</th>\n",
       "      <td>河北</td>\n",
       "      <td>54610</td>\n",
       "      <td>任丘</td>\n",
       "      <td>38.73</td>\n",
       "      <td>116.10</td>\n",
       "      <td>9.2</td>\n",
       "      <td>8.1</td>\n",
       "      <td>32.246529</td>\n",
       "    </tr>\n",
       "    <tr>\n",
       "      <th>576</th>\n",
       "      <td>河北</td>\n",
       "      <td>54612</td>\n",
       "      <td>文安</td>\n",
       "      <td>38.85</td>\n",
       "      <td>116.45</td>\n",
       "      <td>5.4</td>\n",
       "      <td>4.3</td>\n",
       "      <td>35.689976</td>\n",
       "    </tr>\n",
       "    <tr>\n",
       "      <th>547</th>\n",
       "      <td>河北</td>\n",
       "      <td>54506</td>\n",
       "      <td>高碑店</td>\n",
       "      <td>39.32</td>\n",
       "      <td>115.95</td>\n",
       "      <td>25.7</td>\n",
       "      <td>24.6</td>\n",
       "      <td>35.777055</td>\n",
       "    </tr>\n",
       "    <tr>\n",
       "      <th>565</th>\n",
       "      <td>河北</td>\n",
       "      <td>54601</td>\n",
       "      <td>徐水</td>\n",
       "      <td>38.98</td>\n",
       "      <td>115.65</td>\n",
       "      <td>14.3</td>\n",
       "      <td>13.1</td>\n",
       "      <td>39.140108</td>\n",
       "    </tr>\n",
       "    <tr>\n",
       "      <th>567</th>\n",
       "      <td>河北</td>\n",
       "      <td>54603</td>\n",
       "      <td>高阳</td>\n",
       "      <td>38.72</td>\n",
       "      <td>115.77</td>\n",
       "      <td>11.2</td>\n",
       "      <td>10.0</td>\n",
       "      <td>43.920144</td>\n",
       "    </tr>\n",
       "    <tr>\n",
       "      <th>553</th>\n",
       "      <td>河北</td>\n",
       "      <td>54519</td>\n",
       "      <td>永清</td>\n",
       "      <td>39.30</td>\n",
       "      <td>116.48</td>\n",
       "      <td>13.4</td>\n",
       "      <td>12.2</td>\n",
       "      <td>45.197136</td>\n",
       "    </tr>\n",
       "    <tr>\n",
       "      <th>550</th>\n",
       "      <td>河北</td>\n",
       "      <td>54512</td>\n",
       "      <td>固安</td>\n",
       "      <td>39.42</td>\n",
       "      <td>116.28</td>\n",
       "      <td>22.6</td>\n",
       "      <td>21.4</td>\n",
       "      <td>47.103376</td>\n",
       "    </tr>\n",
       "  </tbody>\n",
       "</table>\n",
       "</div>"
      ],
      "text/plain": [
       "     省份    区站号   站名     纬度      经度  气压传感器拔海高度（米）  观测场拔海高度（米）   距离雄县(km)\n",
       "592  河北  54636   雄县  39.02  116.10          12.2        11.1   0.000000\n",
       "569  河北  54605   安新  38.93  115.93           5.6         4.4  17.779593\n",
       "546  河北  54503   容城  39.07  115.82          14.0        12.8  24.811635\n",
       "552  河北  54518   霸州  39.17  116.40          10.4         8.9  30.797155\n",
       "574  河北  54610   任丘  38.73  116.10           9.2         8.1  32.246529\n",
       "576  河北  54612   文安  38.85  116.45           5.4         4.3  35.689976\n",
       "547  河北  54506  高碑店  39.32  115.95          25.7        24.6  35.777055\n",
       "565  河北  54601   徐水  38.98  115.65          14.3        13.1  39.140108\n",
       "567  河北  54603   高阳  38.72  115.77          11.2        10.0  43.920144\n",
       "553  河北  54519   永清  39.30  116.48          13.4        12.2  45.197136\n",
       "550  河北  54512   固安  39.42  116.28          22.6        21.4  47.103376"
      ]
     },
     "execution_count": 10,
     "metadata": {},
     "output_type": "execute_result"
    }
   ],
   "source": [
    "data[data['距离雄县(km)']<50].sort_values('距离雄县(km)')"
   ]
  },
  {
   "cell_type": "markdown",
   "metadata": {},
   "source": [
    "剔除雄县本身后即为要找的50km内的记录："
   ]
  },
  {
   "cell_type": "code",
   "execution_count": 11,
   "metadata": {
    "collapsed": true
   },
   "outputs": [],
   "source": [
    "selected_st = data[data['距离雄县(km)']<50].sort_values('距离雄县(km)').iloc[1:,:]"
   ]
  },
  {
   "cell_type": "markdown",
   "metadata": {},
   "source": [
    "### Folium地图显示"
   ]
  },
  {
   "cell_type": "markdown",
   "metadata": {},
   "source": [
    "Folium设置初始地图很简单，只需指定一个中心坐标。找到雄县的坐标："
   ]
  },
  {
   "cell_type": "code",
   "execution_count": 12,
   "metadata": {
    "collapsed": true
   },
   "outputs": [],
   "source": [
    "import folium"
   ]
  },
  {
   "cell_type": "code",
   "execution_count": 13,
   "metadata": {
    "collapsed": false
   },
   "outputs": [
    {
     "data": {
      "text/html": [
       "<div>\n",
       "<table border=\"1\" class=\"dataframe\">\n",
       "  <thead>\n",
       "    <tr style=\"text-align: right;\">\n",
       "      <th></th>\n",
       "      <th>站名</th>\n",
       "      <th>纬度</th>\n",
       "      <th>经度</th>\n",
       "    </tr>\n",
       "  </thead>\n",
       "  <tbody>\n",
       "    <tr>\n",
       "      <th>592</th>\n",
       "      <td>雄县</td>\n",
       "      <td>39.02</td>\n",
       "      <td>116.1</td>\n",
       "    </tr>\n",
       "  </tbody>\n",
       "</table>\n",
       "</div>"
      ],
      "text/plain": [
       "     站名     纬度     经度\n",
       "592  雄县  39.02  116.1"
      ]
     },
     "execution_count": 13,
     "metadata": {},
     "output_type": "execute_result"
    }
   ],
   "source": [
    "data.ix[data['站名']=='雄县',['站名','纬度','经度']]"
   ]
  },
  {
   "cell_type": "code",
   "execution_count": 14,
   "metadata": {
    "collapsed": true
   },
   "outputs": [],
   "source": [
    "xmap = folium.Map(location=[39.0,116.1])"
   ]
  },
  {
   "cell_type": "code",
   "execution_count": 15,
   "metadata": {
    "collapsed": false
   },
   "outputs": [
    {
     "data": {
      "text/html": [
       "<div style=\"width:100%;\"><div style=\"position:relative;width:100%;height:0;padding-bottom:60%;\"><iframe src=\"data:text/html;base64,CiAgICAgICAgPCFET0NUWVBFIGh0bWw+CiAgICAgICAgPGhlYWQ+CiAgICAgICAgICAgIAogICAgICAgIAogICAgICAgICAgICA8bWV0YSBodHRwLWVxdWl2PSJjb250ZW50LXR5cGUiIGNvbnRlbnQ9InRleHQvaHRtbDsgY2hhcnNldD1VVEYtOCIgLz4KICAgICAgICAKICAgICAgICAgICAgCiAgICAgICAgCiAgICAgICAgICAgIDxzY3JpcHQgc3JjPSJodHRwczovL2NkbmpzLmNsb3VkZmxhcmUuY29tL2FqYXgvbGlicy9sZWFmbGV0LzAuNy4zL2xlYWZsZXQuanMiPjwvc2NyaXB0PgogICAgICAgIAogICAgICAgIAogICAgICAgIAogICAgICAgICAgICAKICAgICAgICAKICAgICAgICAgICAgPHNjcmlwdCBzcmM9Imh0dHBzOi8vYWpheC5nb29nbGVhcGlzLmNvbS9hamF4L2xpYnMvanF1ZXJ5LzEuMTEuMS9qcXVlcnkubWluLmpzIj48L3NjcmlwdD4KICAgICAgICAKICAgICAgICAKICAgICAgICAKICAgICAgICAgICAgCiAgICAgICAgCiAgICAgICAgICAgIDxzY3JpcHQgc3JjPSJodHRwczovL21heGNkbi5ib290c3RyYXBjZG4uY29tL2Jvb3RzdHJhcC8zLjIuMC9qcy9ib290c3RyYXAubWluLmpzIj48L3NjcmlwdD4KICAgICAgICAKICAgICAgICAKICAgICAgICAKICAgICAgICAgICAgCiAgICAgICAgCiAgICAgICAgICAgIDxzY3JpcHQgc3JjPSJodHRwczovL2NkbmpzLmNsb3VkZmxhcmUuY29tL2FqYXgvbGlicy9MZWFmbGV0LmF3ZXNvbWUtbWFya2Vycy8yLjAuMi9sZWFmbGV0LmF3ZXNvbWUtbWFya2Vycy5taW4uanMiPjwvc2NyaXB0PgogICAgICAgIAogICAgICAgIAogICAgICAgIAogICAgICAgICAgICAKICAgICAgICAKICAgICAgICAgICAgPHNjcmlwdCBzcmM9Imh0dHBzOi8vY2RuanMuY2xvdWRmbGFyZS5jb20vYWpheC9saWJzL2xlYWZsZXQubWFya2VyY2x1c3Rlci8wLjQuMC9sZWFmbGV0Lm1hcmtlcmNsdXN0ZXItc3JjLmpzIj48L3NjcmlwdD4KICAgICAgICAKICAgICAgICAKICAgICAgICAKICAgICAgICAgICAgCiAgICAgICAgCiAgICAgICAgICAgIDxzY3JpcHQgc3JjPSJodHRwczovL2NkbmpzLmNsb3VkZmxhcmUuY29tL2FqYXgvbGlicy9sZWFmbGV0Lm1hcmtlcmNsdXN0ZXIvMC40LjAvbGVhZmxldC5tYXJrZXJjbHVzdGVyLmpzIj48L3NjcmlwdD4KICAgICAgICAKICAgICAgICAKICAgICAgICAKICAgICAgICAgICAgCiAgICAgICAgCiAgICAgICAgICAgIDxsaW5rIHJlbD0ic3R5bGVzaGVldCIgaHJlZj0iaHR0cHM6Ly9jZG5qcy5jbG91ZGZsYXJlLmNvbS9hamF4L2xpYnMvbGVhZmxldC8wLjcuMy9sZWFmbGV0LmNzcyIgLz4KICAgICAgICAKICAgICAgICAKICAgICAgICAKICAgICAgICAgICAgCiAgICAgICAgCiAgICAgICAgICAgIDxsaW5rIHJlbD0ic3R5bGVzaGVldCIgaHJlZj0iaHR0cHM6Ly9tYXhjZG4uYm9vdHN0cmFwY2RuLmNvbS9ib290c3RyYXAvMy4yLjAvY3NzL2Jvb3RzdHJhcC5taW4uY3NzIiAvPgogICAgICAgIAogICAgICAgIAogICAgICAgIAogICAgICAgICAgICAKICAgICAgICAKICAgICAgICAgICAgPGxpbmsgcmVsPSJzdHlsZXNoZWV0IiBocmVmPSJodHRwczovL21heGNkbi5ib290c3RyYXBjZG4uY29tL2Jvb3RzdHJhcC8zLjIuMC9jc3MvYm9vdHN0cmFwLXRoZW1lLm1pbi5jc3MiIC8+CiAgICAgICAgCiAgICAgICAgCiAgICAgICAgCiAgICAgICAgICAgIAogICAgICAgIAogICAgICAgICAgICA8bGluayByZWw9InN0eWxlc2hlZXQiIGhyZWY9Imh0dHBzOi8vbWF4Y2RuLmJvb3RzdHJhcGNkbi5jb20vZm9udC1hd2Vzb21lLzQuMS4wL2Nzcy9mb250LWF3ZXNvbWUubWluLmNzcyIgLz4KICAgICAgICAKICAgICAgICAKICAgICAgICAKICAgICAgICAgICAgCiAgICAgICAgCiAgICAgICAgICAgIDxsaW5rIHJlbD0ic3R5bGVzaGVldCIgaHJlZj0iaHR0cHM6Ly9jZG5qcy5jbG91ZGZsYXJlLmNvbS9hamF4L2xpYnMvTGVhZmxldC5hd2Vzb21lLW1hcmtlcnMvMi4wLjIvbGVhZmxldC5hd2Vzb21lLW1hcmtlcnMuY3NzIiAvPgogICAgICAgIAogICAgICAgIAogICAgICAgIAogICAgICAgICAgICAKICAgICAgICAKICAgICAgICAgICAgPGxpbmsgcmVsPSJzdHlsZXNoZWV0IiBocmVmPSJodHRwczovL2NkbmpzLmNsb3VkZmxhcmUuY29tL2FqYXgvbGlicy9sZWFmbGV0Lm1hcmtlcmNsdXN0ZXIvMC40LjAvTWFya2VyQ2x1c3Rlci5EZWZhdWx0LmNzcyIgLz4KICAgICAgICAKICAgICAgICAKICAgICAgICAKICAgICAgICAgICAgCiAgICAgICAgCiAgICAgICAgICAgIDxsaW5rIHJlbD0ic3R5bGVzaGVldCIgaHJlZj0iaHR0cHM6Ly9jZG5qcy5jbG91ZGZsYXJlLmNvbS9hamF4L2xpYnMvbGVhZmxldC5tYXJrZXJjbHVzdGVyLzAuNC4wL01hcmtlckNsdXN0ZXIuY3NzIiAvPgogICAgICAgIAogICAgICAgIAogICAgICAgIAogICAgICAgICAgICAKICAgICAgICAKICAgICAgICAgICAgPGxpbmsgcmVsPSJzdHlsZXNoZWV0IiBocmVmPSJodHRwczovL3Jhdy5naXRodWJ1c2VyY29udGVudC5jb20vcHl0aG9uLXZpc3VhbGl6YXRpb24vZm9saXVtL21hc3Rlci9mb2xpdW0vdGVtcGxhdGVzL2xlYWZsZXQuYXdlc29tZS5yb3RhdGUuY3NzIiAvPgogICAgICAgIAogICAgICAgIAogICAgICAgIAogICAgICAgICAgICAKICAgICAgICAgICAgPHN0eWxlPgoKICAgICAgICAgICAgaHRtbCwgYm9keSB7CiAgICAgICAgICAgICAgICB3aWR0aDogMTAwJTsKICAgICAgICAgICAgICAgIGhlaWdodDogMTAwJTsKICAgICAgICAgICAgICAgIG1hcmdpbjogMDsKICAgICAgICAgICAgICAgIHBhZGRpbmc6IDA7CiAgICAgICAgICAgICAgICB9CgogICAgICAgICAgICAjbWFwIHsKICAgICAgICAgICAgICAgIHBvc2l0aW9uOmFic29sdXRlOwogICAgICAgICAgICAgICAgdG9wOjA7CiAgICAgICAgICAgICAgICBib3R0b206MDsKICAgICAgICAgICAgICAgIHJpZ2h0OjA7CiAgICAgICAgICAgICAgICBsZWZ0OjA7CiAgICAgICAgICAgICAgICB9CiAgICAgICAgICAgIDwvc3R5bGU+CiAgICAgICAgICAgIAogICAgICAgIAogICAgICAgICAgICAKICAgICAgICAgICAgPHN0eWxlPiAjbWFwXzNmNmYwOGYwYTIzYTRlNGViYzkzN2RlNGUyY2Q3NTBlIHsKICAgICAgICAgICAgICAgIHBvc2l0aW9uIDogcmVsYXRpdmU7CiAgICAgICAgICAgICAgICB3aWR0aCA6IDEwMC4wJTsKICAgICAgICAgICAgICAgIGhlaWdodDogMTAwLjAlOwogICAgICAgICAgICAgICAgbGVmdDogMC4wJTsKICAgICAgICAgICAgICAgIHRvcDogMC4wJTsKICAgICAgICAgICAgICAgIH0KICAgICAgICAgICAgPC9zdHlsZT4KICAgICAgICAKICAgICAgICAKICAgICAgICAKICAgICAgICA8L2hlYWQ+CiAgICAgICAgPGJvZHk+CiAgICAgICAgICAgIAogICAgICAgIAogICAgICAgICAgICAKICAgICAgICAgICAgPGRpdiBjbGFzcz0iZm9saXVtLW1hcCIgaWQ9Im1hcF8zZjZmMDhmMGEyM2E0ZTRlYmM5MzdkZTRlMmNkNzUwZSIgPjwvZGl2PgogICAgICAgIAogICAgICAgIAogICAgICAgIAogICAgICAgIDwvYm9keT4KICAgICAgICA8c2NyaXB0PgogICAgICAgICAgICAKICAgICAgICAKICAgICAgICAgICAgCgogICAgICAgICAgICB2YXIgc291dGhXZXN0ID0gTC5sYXRMbmcoLTkwLCAtMTgwKTsKICAgICAgICAgICAgdmFyIG5vcnRoRWFzdCA9IEwubGF0TG5nKDkwLCAxODApOwogICAgICAgICAgICB2YXIgYm91bmRzID0gTC5sYXRMbmdCb3VuZHMoc291dGhXZXN0LCBub3J0aEVhc3QpOwoKICAgICAgICAgICAgdmFyIG1hcF8zZjZmMDhmMGEyM2E0ZTRlYmM5MzdkZTRlMmNkNzUwZSA9IEwubWFwKCdtYXBfM2Y2ZjA4ZjBhMjNhNGU0ZWJjOTM3ZGU0ZTJjZDc1MGUnLCB7CiAgICAgICAgICAgICAgICAgICAgICAgICAgICAgICAgICAgICAgICAgICBjZW50ZXI6WzM5LjAsMTE2LjFdLAogICAgICAgICAgICAgICAgICAgICAgICAgICAgICAgICAgICAgICAgICAgem9vbTogMTAsCiAgICAgICAgICAgICAgICAgICAgICAgICAgICAgICAgICAgICAgICAgICBtYXhCb3VuZHM6IGJvdW5kcywKICAgICAgICAgICAgICAgICAgICAgICAgICAgICAgICAgICAgICAgICAgIGxheWVyczogW10sCiAgICAgICAgICAgICAgICAgICAgICAgICAgICAgICAgICAgICAgICAgICBjcnM6IEwuQ1JTLkVQU0czODU3CiAgICAgICAgICAgICAgICAgICAgICAgICAgICAgICAgICAgICAgICAgfSk7CiAgICAgICAgICAgIAogICAgICAgIAogICAgICAgIAogICAgICAgICAgICAKICAgICAgICAgICAgdmFyIHRpbGVfbGF5ZXJfOWFjZGRiY2Q4N2Y2NDU1ODk3Y2E4NTc4ZWYxM2M3N2IgPSBMLnRpbGVMYXllcigKICAgICAgICAgICAgICAgICdodHRwczovL3tzfS50aWxlLm9wZW5zdHJlZXRtYXAub3JnL3t6fS97eH0ve3l9LnBuZycsCiAgICAgICAgICAgICAgICB7CiAgICAgICAgICAgICAgICAgICAgbWF4Wm9vbTogMTgsCiAgICAgICAgICAgICAgICAgICAgbWluWm9vbTogMSwKICAgICAgICAgICAgICAgICAgICBhdHRyaWJ1dGlvbjogJ0RhdGEgYnkgPGEgaHJlZj0iaHR0cDovL29wZW5zdHJlZXRtYXAub3JnIj5PcGVuU3RyZWV0TWFwPC9hPiwgdW5kZXIgPGEgaHJlZj0iaHR0cDovL3d3dy5vcGVuc3RyZWV0bWFwLm9yZy9jb3B5cmlnaHQiPk9EYkw8L2E+LicsCiAgICAgICAgICAgICAgICAgICAgZGV0ZWN0UmV0aW5hOiBmYWxzZQogICAgICAgICAgICAgICAgICAgIH0KICAgICAgICAgICAgICAgICkuYWRkVG8obWFwXzNmNmYwOGYwYTIzYTRlNGViYzkzN2RlNGUyY2Q3NTBlKTsKCiAgICAgICAgCiAgICAgICAgCiAgICAgICAgCiAgICAgICAgPC9zY3JpcHQ+CiAgICAgICAg\" style=\"position:absolute;width:100%;height:100%;left:0;top:0;\"></iframe></div></div>"
      ],
      "text/plain": [
       "<folium.folium.Map at 0x10c835cf8>"
      ]
     },
     "execution_count": 15,
     "metadata": {},
     "output_type": "execute_result"
    }
   ],
   "source": [
    "xmap"
   ]
  },
  {
   "cell_type": "markdown",
   "metadata": {},
   "source": [
    "在雄县这个位置添加一个标记，设置标记的图形样式："
   ]
  },
  {
   "cell_type": "markdown",
   "metadata": {},
   "source": [
    "这个icon的设置很有趣，可以变化出很多用途，Folium.Icon类的介绍可以通过在jupyter notebook里执行`Folium.Icon?`显示。\n",
    "\n",
    "简单说这个类可以设置color, icon_color, icon, angle, prefix这5个参数。color的可选项包括：`['red', 'blue', 'green', 'purple', 'orange', 'darkred', 'lightred', 'beige', 'darkblue', 'darkgreen', 'cadetblue', 'darkpurple', 'white', 'pink', 'lightblue', 'lightgreen', 'gray', 'black', 'lightgray']` ，或者HTML颜色代码；icon_color同上；icon可以在[Font-Awesome网站](http://fontawesome.io/icons/)中找到对应的名字，并设置prefix参数为’fa'；最后，angle以度为单位设置。\n"
   ]
  },
  {
   "cell_type": "code",
   "execution_count": 16,
   "metadata": {
    "collapsed": false
   },
   "outputs": [],
   "source": [
    "icon_kw = dict(prefix='fa', color='orange', icon_color='darkred', icon='cny')\n",
    "icon = folium.Icon(**icon_kw)"
   ]
  },
  {
   "cell_type": "markdown",
   "metadata": {},
   "source": [
    "创建一个Marker对象，然后加入xmap地图中，注意，这里popup我直接写上了汉字“雄县”："
   ]
  },
  {
   "cell_type": "code",
   "execution_count": 17,
   "metadata": {
    "collapsed": true
   },
   "outputs": [],
   "source": [
    "folium.Marker(\n",
    "    location=[39.0,116.1],\n",
    "    popup='雄县',\n",
    "    icon=icon\n",
    ").add_to(xmap);"
   ]
  },
  {
   "cell_type": "code",
   "execution_count": 18,
   "metadata": {
    "collapsed": false
   },
   "outputs": [
    {
     "data": {
      "text/html": [
       "<div style=\"width:100%;\"><div style=\"position:relative;width:100%;height:0;padding-bottom:60%;\"><iframe src=\"data:text/html;base64,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\" style=\"position:absolute;width:100%;height:100%;left:0;top:0;\"></iframe></div></div>"
      ],
      "text/plain": [
       "<folium.folium.Map at 0x10c835cf8>"
      ]
     },
     "execution_count": 18,
     "metadata": {},
     "output_type": "execute_result"
    }
   ],
   "source": [
    "xmap"
   ]
  },
  {
   "cell_type": "markdown",
   "metadata": {},
   "source": [
    "点击标志，发现显示的是乱码，其原因在于这里popup只能使用ascii编码。"
   ]
  },
  {
   "cell_type": "markdown",
   "metadata": {},
   "source": [
    "### 中文显示"
   ]
  },
  {
   "cell_type": "markdown",
   "metadata": {},
   "source": [
    "我们不妨先看一下系统默认编码是什么："
   ]
  },
  {
   "cell_type": "code",
   "execution_count": 19,
   "metadata": {
    "collapsed": false
   },
   "outputs": [
    {
     "name": "stdout",
     "output_type": "stream",
     "text": [
      "utf-8\n"
     ]
    }
   ],
   "source": [
    "import sys\n",
    "print(sys.getdefaultencoding())"
   ]
  },
  {
   "cell_type": "markdown",
   "metadata": {},
   "source": [
    "Folium自带一个IFrame类可以在其中嵌入html代码并解释，因此给了我们一个机会借道HTML来实现中文显示。那么首先要把汉字编码为ascii xml字符的形式。经过*多次试验*，以下函数可以实现正确显示："
   ]
  },
  {
   "cell_type": "code",
   "execution_count": 20,
   "metadata": {
    "collapsed": true
   },
   "outputs": [],
   "source": [
    "def utf2asc(s):\n",
    "    return str(str(s).encode('ascii', 'xmlcharrefreplace'))[2:-1]"
   ]
  },
  {
   "cell_type": "code",
   "execution_count": 21,
   "metadata": {
    "collapsed": false
   },
   "outputs": [
    {
     "data": {
      "text/plain": [
       "'&#38596;&#21439;'"
      ]
     },
     "execution_count": 21,
     "metadata": {},
     "output_type": "execute_result"
    }
   ],
   "source": [
    "utf2asc('雄县')"
   ]
  },
  {
   "cell_type": "markdown",
   "metadata": {},
   "source": [
    "写一个最简单的html标记："
   ]
  },
  {
   "cell_type": "code",
   "execution_count": 22,
   "metadata": {
    "collapsed": false
   },
   "outputs": [],
   "source": [
    "heading3 = \"\"\"<h3>{}</h3>\"\"\".format"
   ]
  },
  {
   "cell_type": "code",
   "execution_count": 23,
   "metadata": {
    "collapsed": false
   },
   "outputs": [
    {
     "data": {
      "text/plain": [
       "'<h3>&#38596;&#21439;</h3>'"
      ]
     },
     "execution_count": 23,
     "metadata": {},
     "output_type": "execute_result"
    }
   ],
   "source": [
    "heading3(utf2asc('雄县'))"
   ]
  },
  {
   "cell_type": "code",
   "execution_count": 24,
   "metadata": {
    "collapsed": true
   },
   "outputs": [],
   "source": [
    "from folium.element import IFrame\n",
    "\n",
    "iframe = IFrame(html=heading3(utf2asc('雄县￥')),width=100,height=50)"
   ]
  },
  {
   "cell_type": "markdown",
   "metadata": {},
   "source": [
    "加上一个￥以测试对中文符号的显示能力"
   ]
  },
  {
   "cell_type": "code",
   "execution_count": 25,
   "metadata": {
    "collapsed": true
   },
   "outputs": [],
   "source": [
    "popup = folium.Popup(iframe)"
   ]
  },
  {
   "cell_type": "code",
   "execution_count": 26,
   "metadata": {
    "collapsed": false
   },
   "outputs": [
    {
     "data": {
      "text/html": [
       "<div style=\"width:100%;\"><div style=\"position:relative;width:100%;height:0;padding-bottom:60%;\"><iframe src=\"data:text/html;base64,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\" style=\"position:absolute;width:100%;height:100%;left:0;top:0;\"></iframe></div></div>"
      ],
      "text/plain": [
       "<folium.folium.Map at 0x10c86fb70>"
      ]
     },
     "execution_count": 26,
     "metadata": {},
     "output_type": "execute_result"
    }
   ],
   "source": [
    "xmap = folium.Map(location=[39.0,116.1])\n",
    "\n",
    "folium.Marker(\n",
    "    location=[39.0,116.1],\n",
    "    popup=popup,\n",
    "    icon=icon\n",
    ").add_to(xmap);\n",
    "\n",
    "xmap"
   ]
  },
  {
   "cell_type": "markdown",
   "metadata": {},
   "source": [
    "此时popup可以正确显示中文及符号"
   ]
  },
  {
   "cell_type": "markdown",
   "metadata": {},
   "source": [
    "### popup美化"
   ]
  },
  {
   "cell_type": "markdown",
   "metadata": {},
   "source": [
    "借鉴[Filipe的博文](https://ocefpaf.github.io/python4oceanographers/blog/2015/12/14/geopandas_folium/)中的HTML代码以美化popup，使其呈现表格:"
   ]
  },
  {
   "cell_type": "markdown",
   "metadata": {},
   "source": [
    "列名也需要使用编码映射："
   ]
  },
  {
   "cell_type": "code",
   "execution_count": 27,
   "metadata": {
    "collapsed": false,
    "scrolled": true
   },
   "outputs": [
    {
     "data": {
      "text/plain": [
       "{'区站号': '&#21306;&#31449;&#21495;',\n",
       " '气压传感器拔海高度（米）': '&#27668;&#21387;&#20256;&#24863;&#22120;&#25300;&#28023;&#39640;&#24230;&#65288;&#31859;&#65289;',\n",
       " '省份': '&#30465;&#20221;',\n",
       " '站名': '&#31449;&#21517;',\n",
       " '纬度': '&#32428;&#24230;',\n",
       " '经度': '&#32463;&#24230;',\n",
       " '观测场拔海高度（米）': '&#35266;&#27979;&#22330;&#25300;&#28023;&#39640;&#24230;&#65288;&#31859;&#65289;',\n",
       " '距离雄县(km)': '&#36317;&#31163;&#38596;&#21439;(km)'}"
      ]
     },
     "execution_count": 27,
     "metadata": {},
     "output_type": "execute_result"
    }
   ],
   "source": [
    "{k:utf2asc(k) for k in selected_st.columns.tolist()}"
   ]
  },
  {
   "cell_type": "markdown",
   "metadata": {},
   "source": [
    "popup中的HTML，以站名、站号、观测场海拔的顺序构建列表，注意看`<tr>`部分"
   ]
  },
  {
   "cell_type": "code",
   "execution_count": 28,
   "metadata": {
    "collapsed": true
   },
   "outputs": [],
   "source": [
    "table = \"\"\"\n",
    "<!DOCTYPE html>\n",
    "<html>\n",
    "<head>\n",
    "<style>\n",
    "table {{\n",
    "    width:100%;\n",
    "}}\n",
    "table, th, td {{\n",
    "    border: 1px solid black;\n",
    "    border-collapse: collapse;\n",
    "}}\n",
    "th, td {{\n",
    "    padding: 5px;\n",
    "    text-align: left;\n",
    "}}\n",
    "table#t01 tr:nth-child(odd) {{\n",
    "    background-color: #eee;\n",
    "}}\n",
    "table#t01 tr:nth-child(even) {{\n",
    "   background-color:#fff;\n",
    "}}\n",
    "</style>\n",
    "</head>\n",
    "<body>\n",
    "\n",
    "<table id=\"t01\">\n",
    "  <tr>\n",
    "    <td>&#31449;&#21517;</td>\n",
    "    <td>{}</td>\n",
    "  </tr>\n",
    "  <tr>\n",
    "    <td>&#21306;&#31449;&#21495;</td>\n",
    "    <td>{}</td>\n",
    "  </tr>\n",
    "  <tr>\n",
    "    <td>&#35266;&#27979;&#22330;&#25300;&#28023;&#39640;&#24230;&#65288;&#31859;&#65289;</td>\n",
    "    <td>{}</td>\n",
    "  </tr>\n",
    "</table>\n",
    "</body>\n",
    "</html>\n",
    "\"\"\".format"
   ]
  },
  {
   "cell_type": "markdown",
   "metadata": {},
   "source": [
    "循环列表各行，将信息添加进地图："
   ]
  },
  {
   "cell_type": "code",
   "execution_count": 29,
   "metadata": {
    "collapsed": false
   },
   "outputs": [],
   "source": [
    "for k,v in selected_st.iterrows():\n",
    "    \n",
    "    iframe = IFrame(html=table(utf2asc(v['站名']),utf2asc(v['区站号']),utf2asc(v['观测场拔海高度（米）']))\n",
    "                    ,width=310,height=130)\n",
    "    popup = folium.Popup(iframe,max_width=400)\n",
    "    \n",
    "    folium.Marker(\n",
    "        location=[v.纬度,v.经度],\n",
    "        popup=popup\n",
    "        ).add_to(xmap);"
   ]
  },
  {
   "cell_type": "code",
   "execution_count": 30,
   "metadata": {
    "collapsed": false
   },
   "outputs": [
    {
     "data": {
      "text/html": [
       "<div style=\"width:100%;\"><div style=\"position:relative;width:100%;height:0;padding-bottom:60%;\"><iframe src=\"data:text/html;base64,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\" style=\"position:absolute;width:100%;height:100%;left:0;top:0;\"></iframe></div></div>"
      ],
      "text/plain": [
       "<folium.folium.Map at 0x10c86fb70>"
      ]
     },
     "execution_count": 30,
     "metadata": {},
     "output_type": "execute_result"
    }
   ],
   "source": [
    "xmap"
   ]
  },
  {
   "cell_type": "code",
   "execution_count": null,
   "metadata": {
    "collapsed": true
   },
   "outputs": [],
   "source": []
  }
 ],
 "metadata": {
  "kernelspec": {
   "display_name": "Python [conda env:gsd]",
   "language": "python",
   "name": "conda-env-gsd-py"
  },
  "language_info": {
   "codemirror_mode": {
    "name": "ipython",
    "version": 3
   },
   "file_extension": ".py",
   "mimetype": "text/x-python",
   "name": "python",
   "nbconvert_exporter": "python",
   "pygments_lexer": "ipython3",
   "version": "3.5.2"
  },
  "nikola": {
   "category": "",
   "date": "2017-04-12 16:26:41 UTC+08:00",
   "description": "",
   "link": "",
   "slug": "folium-popup",
   "tags": "",
   "title": "Folium Popup",
   "type": "text"
  }
 },
 "nbformat": 4,
 "nbformat_minor": 1
}
