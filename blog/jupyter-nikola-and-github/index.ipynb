{
 "cells": [
  {
   "cell_type": "markdown",
   "metadata": {},
   "source": [
    "## Jupyter Notebook\n",
    "\n",
    "Jupyter notebook是一款非常好用的编辑器。\n",
    "它最大的优点在于可以在浏览器中编辑代码并即时显示出图表。\n",
    "\n",
    "## Nikola\n",
    "\n",
    "Nikola是一款基于Python的静态网页生成器\n",
    "\n",
    "## GitHub\n",
    "\n",
    "GitHub是托管代码网站。\n",
    "此外，GtiHub还可用于发布Nikola生成的网站。"
   ]
  }
 ],
 "metadata": {
  "kernelspec": {
   "display_name": "Python 3",
   "language": "python",
   "name": "python3"
  },
  "language_info": {
   "codemirror_mode": {
    "name": "ipython",
    "version": 3
   },
   "file_extension": ".py",
   "mimetype": "text/x-python",
   "name": "python",
   "nbconvert_exporter": "python",
   "pygments_lexer": "ipython3",
   "version": "3.5.2"
  },
  "nikola": {
   "category": "",
   "date": "2016-11-21 12:27:12 UTC+08:00",
   "description": "",
   "link": "",
   "slug": "jupyter-nikola-and-github",
   "tags": "",
   "title": "Jupyter, Nikola and GitHub",
   "type": "text"
  }
 },
 "nbformat": 4,
 "nbformat_minor": 1
}
