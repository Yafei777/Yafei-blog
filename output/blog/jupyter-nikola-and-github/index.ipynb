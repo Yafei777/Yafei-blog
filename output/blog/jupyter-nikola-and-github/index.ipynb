{
 "cells": [
  {
   "cell_type": "markdown",
   "metadata": {},
   "source": [
    "_本文最近更新于:_ 2016-11-22\n",
    "\n",
    "* Jupyter notebook是一款非常好用的编辑器。它最大的优点在于可以在浏览器中编辑代码并即时显示出图表。\n",
    "* Nikola是一款基于Python的静态网页生成器\n",
    "* GitHub是托管代码网站。此外，GtiHub还可用于发布Nikola生成的网站。"
   ]
  },
  {
   "cell_type": "markdown",
   "metadata": {},
   "source": [
    "### 安装 Jupyter Notebook\n",
    "\n",
    "首先确定你的操作系统，并下载相应的 [Miniconda](http://conda.pydata.org/miniconda.html) 并安装。\n",
    "\n",
    "安装完成后，在终端输入 `conda --version` 将会显示conda的版本。\n",
    "\n",
    "现在，可以使用 conda 安装相应组件，例如ipython-notebook。"
   ]
  },
  {
   "cell_type": "code",
   "execution_count": null,
   "metadata": {
    "collapsed": true
   },
   "outputs": [],
   "source": [
    "conda install ipython-notebook"
   ]
  },
  {
   "cell_type": "markdown",
   "metadata": {},
   "source": [
    "使用Jupyter Notebook，在终端输入:"
   ]
  },
  {
   "cell_type": "code",
   "execution_count": null,
   "metadata": {
    "collapsed": true
   },
   "outputs": [],
   "source": [
    "jupyter notebook"
   ]
  },
  {
   "cell_type": "markdown",
   "metadata": {},
   "source": [
    "### 安装 Nikola\n",
    "\n",
    "建议使用conda 创建一个虚拟的环境，以方便管理：\n",
    "\n",
    "（此处YOUR_ENV_NAME是自己指定的名字）"
   ]
  },
  {
   "cell_type": "code",
   "execution_count": null,
   "metadata": {
    "collapsed": true
   },
   "outputs": [],
   "source": [
    "conda create --name YOUR_ENV_NAME python=3"
   ]
  },
  {
   "cell_type": "markdown",
   "metadata": {},
   "source": [
    "激活刚刚创建的conda环境，在终端中输入："
   ]
  },
  {
   "cell_type": "code",
   "execution_count": null,
   "metadata": {
    "collapsed": true
   },
   "outputs": [],
   "source": [
    "source activate YOUR_ENV_NAME"
   ]
  },
  {
   "cell_type": "markdown",
   "metadata": {},
   "source": [
    "使用pip安装：\n",
    "\n",
    "(miniconda 中自带了pip，无需重新安装)"
   ]
  },
  {
   "cell_type": "code",
   "execution_count": null,
   "metadata": {
    "collapsed": true
   },
   "outputs": [],
   "source": [
    "pip install nikola"
   ]
  },
  {
   "cell_type": "markdown",
   "metadata": {},
   "source": [
    "### 初始化站点\n",
    "\n",
    "首先使用`cd`, `mkdir`新建一个文件夹用于存放站点资源。\n",
    "\n",
    "假设我们目前已经在站点文件夹的目录下，初始化：\n",
    "\n",
    "(注意代码最后有一个点，代表当前目录）"
   ]
  },
  {
   "cell_type": "code",
   "execution_count": null,
   "metadata": {
    "collapsed": true
   },
   "outputs": [],
   "source": [
    "nikola init ."
   ]
  },
  {
   "cell_type": "markdown",
   "metadata": {},
   "source": [
    "初始化后，将会在目录中看到一个conf.py的文件。\n",
    "\n",
    "使用文本编辑器打开conf.py，并在如下两处编辑：（文字很多，建议使用搜索）"
   ]
  },
  {
   "cell_type": "code",
   "execution_count": null,
   "metadata": {
    "collapsed": true
   },
   "outputs": [],
   "source": [
    "POSTS = (\n",
    "    (\"posts/*.ipynb\", \"blog\", \"post.tmpl\"),\n",
    "    (\"posts/*.md\", \"blog\", \"post.tmpl\"),\n",
    "    (\"posts/*.rst\", \"blog\", \"post.tmpl\"),\n",
    "    (\"posts/*.txt\", \"blog\", \"post.tmpl\"),\n",
    ")\n",
    "PAGES = (\n",
    "    (\"pages/*.md\", \"\", \"story.tmpl\"),\n",
    "    (\"pages/*.ipynb\", \"\", \"story.tmpl\"),\n",
    "    (\"pages/*.rst\", \"\", \"story.tmpl\"),\n",
    "    (\"pages/*.txt\", \"\", \"story.tmpl\"),\n",
    ")"
   ]
  },
  {
   "cell_type": "markdown",
   "metadata": {},
   "source": [
    "这样做的目的是让你以默认jupyter notebook的格式发布新博文"
   ]
  },
  {
   "cell_type": "markdown",
   "metadata": {},
   "source": [
    "### 初始化Git\n",
    "\n",
    "还是在站点的目录下，初始化git："
   ]
  },
  {
   "cell_type": "code",
   "execution_count": null,
   "metadata": {
    "collapsed": true
   },
   "outputs": [],
   "source": [
    "git init\n",
    "git add *\n",
    "git commit -am \"Initial commit\""
   ]
  },
  {
   "cell_type": "markdown",
   "metadata": {},
   "source": [
    "你还需要在GitHub上注册一个账号，然后创建一个项目库(repository).\n",
    "\n",
    "将站点目录和内容推送到GitHub的服务器上："
   ]
  },
  {
   "cell_type": "code",
   "execution_count": null,
   "metadata": {
    "collapsed": true
   },
   "outputs": [],
   "source": [
    "git remote add origin https://github.com/USERNAME/PROJECTNAME.git\n",
    "git push origin"
   ]
  },
  {
   "cell_type": "markdown",
   "metadata": {},
   "source": [
    "USERNAME和PROJECTNAME依然需要你自己定义，例如，这个博客，我的GitHub的username就是yafei777, projectname就是Yafei-blog"
   ]
  },
  {
   "cell_type": "markdown",
   "metadata": {},
   "source": [
    "### 写文章\n",
    "\n",
    "我们可以先写一个jupyter notebook格式的博文："
   ]
  },
  {
   "cell_type": "code",
   "execution_count": null,
   "metadata": {
    "collapsed": true
   },
   "outputs": [],
   "source": [
    "nikola new_post -f ipynb"
   ]
  },
  {
   "cell_type": "markdown",
   "metadata": {},
   "source": [
    "启动一个jupyter notebook来编辑刚刚创建的空文章："
   ]
  },
  {
   "cell_type": "code",
   "execution_count": null,
   "metadata": {
    "collapsed": true
   },
   "outputs": [],
   "source": [
    "jupyter notebook posts"
   ]
  },
  {
   "cell_type": "markdown",
   "metadata": {},
   "source": [
    "写好保存后，让nikola生成静态页面，并显示到浏览器上："
   ]
  },
  {
   "cell_type": "code",
   "execution_count": null,
   "metadata": {
    "collapsed": true
   },
   "outputs": [],
   "source": [
    "nikola auto"
   ]
  },
  {
   "cell_type": "markdown",
   "metadata": {},
   "source": [
    "**注意！** 如果遇到提示什么有某个python包没有安装，只需 `pip install PACKAGE` 就可以了, 此处的PACKAGE是提示缺少的包名。"
   ]
  },
  {
   "cell_type": "markdown",
   "metadata": {},
   "source": [
    "### 发布到GitHub Pages上\n",
    "\n",
    "GitHub pages服务是免费的，此时也先不需要另外购买域名。当然你也可以发布到其它服务器上，没有问题。\n",
    "\n",
    "打开文本编辑器编辑conf.py:"
   ]
  },
  {
   "cell_type": "code",
   "execution_count": null,
   "metadata": {
    "collapsed": true
   },
   "outputs": [],
   "source": [
    "GITHUB_SOURCE_BRANCH = 'master'\n",
    "GITHUB_DEPLOY_BRANCH = 'gh-pages'\n",
    "GITHUB_REMOTE_NAME = 'origin'"
   ]
  },
  {
   "cell_type": "markdown",
   "metadata": {},
   "source": [
    "好了，现在可以让nikola自动发布到GitHub上去了，只需在终端中输入："
   ]
  },
  {
   "cell_type": "code",
   "execution_count": null,
   "metadata": {
    "collapsed": true
   },
   "outputs": [],
   "source": [
    "nikola github_deploy"
   ]
  },
  {
   "cell_type": "markdown",
   "metadata": {},
   "source": [
    "完成之后应该就可以在 https://USERNAME.github.io/PROJECTNAME 中看到了创建的网站和第一篇文章了！"
   ]
  },
  {
   "cell_type": "markdown",
   "metadata": {},
   "source": [
    "## 有用的资源：\n",
    "\n",
    "* [conda环境的使用](http://conda.pydata.org/docs/using/envs.html#)\n",
    "* [Jaakko的博客，介绍nikola，本文大部分翻译自该文章](http://www.jaakkoluttinen.fi/blog/how-to-blog-with-jupyter-ipython-notebook-and-nikola/)\n",
    "* [GitHub Pages的使用](https://help.github.com/articles/user-organization-and-project-pages/#project-pages)\n",
    "* [Markdown教程](https://guides.github.com/features/mastering-markdown/)"
   ]
  }
 ],
 "metadata": {
  "kernelspec": {
   "display_name": "Python 3",
   "language": "python",
   "name": "python3"
  },
  "language_info": {
   "codemirror_mode": {
    "name": "ipython",
    "version": 3
   },
   "file_extension": ".py",
   "mimetype": "text/x-python",
   "name": "python",
   "nbconvert_exporter": "python",
   "pygments_lexer": "ipython3",
   "version": "3.5.2"
  },
  "nikola": {
   "category": "",
   "date": "2016-11-21 12:27:12 UTC+08:00",
   "description": "",
   "link": "",
   "slug": "jupyter-nikola-and-github",
   "tags": "",
   "title": "Jupyter, Nikola and GitHub",
   "type": "text"
  }
 },
 "nbformat": 4,
 "nbformat_minor": 1
}
